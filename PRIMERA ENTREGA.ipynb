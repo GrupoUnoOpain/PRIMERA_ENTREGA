{
 "cells": [
  {
   "cell_type": "markdown",
   "id": "cc78f1fa",
   "metadata": {},
   "source": [
    "# **PRIMERA ENTREGA - OPAIN S.A.**\n",
    "\n",
    "## **Propósito del proyecto** \n",
    "\n",
    "La Transformación Digital es un pilar fundamental en la estrategia organizacional, siendo un habilitador para la consecución de los objetivos empresariales. Proyectos de Analítica, Big Data, Machine Learning o Inteligencia Artificial permiten convertir la información en activos reales de la organización que aportan a la consecución de valor. Por esto mismo se requiere desarrollar modelos de analítica predictiva y prescriptiva que permitan predecir el comportamiento de ventas del Aeropuerto Internacional el Dorado, buscando correlación entre variables operativas como tipos de aeronaves, cantidad de pasajeros, destinos y orígenes de los vuelos, entre otras, con los históricos de ventas de 10 marcas. Lo anterior con el objetivo de establecer estrategias comerciales que permitan impulsar la generación de\n",
    "ingresos y al mismo tiempo atender las necesidades de los pasajeros."
   ]
  },
  {
   "cell_type": "markdown",
   "id": "eaea3592",
   "metadata": {},
   "source": [
    "### **Meta**\n",
    "\n",
    "- Comprensión de datos y elección de modelo.\n",
    "\n",
    "### **Entregables**\n",
    "\n",
    "- Presentación de hallazgos o tendencias encontradas en el análisis exploratorio de datos.\n",
    "- Sustentar que modelo se usó y ¿por qué?\n",
    "- Verificar significancia del modelo seleccionado."
   ]
  },
  {
   "cell_type": "markdown",
   "id": "4bebd767",
   "metadata": {},
   "source": [
    "## **1. Presentación de hallazgos o tendencias encontradas en el análisis exploratorio de datos**\n",
    "\n",
    "Para este primer punto se realizó el análisis de las dimensiones de calidad de los dataset con información **comercial** y **operativa** y se hace una limpieza preliminar y luego se realiza el cruce entre los dos dataset.\n",
    "\n",
    "\n",
    "**Notebook adjuntos:** \n",
    "- 1_Limpieza_datos_comerciales\n",
    "- 2_limpieza_datos_operativos\n",
    "- 3_Union_datos_operativos_y_comerciales"
   ]
  },
  {
   "cell_type": "markdown",
   "id": "b6a84b6c",
   "metadata": {},
   "source": [
    "## **2. Sustentar que modelo se usó y ¿por qué?**\n",
    "\n",
    "Para el proyecto propuesto, se selecciono un modelo de regresión lineal múltiple, debido a la complejidad de los datos y la necesidad de tener en cuenta múltiples variables explicativas para predecir el valor de las ventas generadas por los usuarios de un vuelo en particular. Un modelo de regresión lineal múltiple permite incorporar múltiples variables independientes para predecir la variable dependiente (ventas).\n",
    "\n",
    "Además, este enfoque proporciona una comprensión clara de la relación entre las diferentes variables independientes y la variable de salida, lo que permite identificar la importancia relativa de cada variable en la predicción de las ventas. Esto ayudará a determinar qué factores específicos, como el destino, la hora del día, el tipo de vuelo y otros factores, tienen un impacto significativo en las ventas de las tiendas comerciales en el aeropuerto.\n",
    "\n",
    "La selección de un modelo de regresión lineal múltiple también se justifica por su capacidad para manejar relaciones lineales entre las variables y su relativa simplicidad en comparación con otros modelos más complejos. Dado que el enfoque principal del proyecto es comprender y predecir las ventas en función de los datos de vuelo y las transacciones de las tiendas, un modelo de regresión lineal múltiple ofrece una solución efectiva y comprensible."
   ]
  },
  {
   "cell_type": "markdown",
   "id": "7ddf5f62",
   "metadata": {},
   "source": [
    "## **3. Verificar significancia del modelo seleccionado**\n",
    "\n",
    "El proceso realizado para validar el modelo seleccionado se encuentra en el notebook adjunto.\n",
    "\n",
    "- 4_Modelo_regresion"
   ]
  }
 ],
 "metadata": {
  "kernelspec": {
   "display_name": "Python 3 (ipykernel)",
   "language": "python",
   "name": "python3"
  },
  "language_info": {
   "codemirror_mode": {
    "name": "ipython",
    "version": 3
   },
   "file_extension": ".py",
   "mimetype": "text/x-python",
   "name": "python",
   "nbconvert_exporter": "python",
   "pygments_lexer": "ipython3",
   "version": "3.9.13"
  }
 },
 "nbformat": 4,
 "nbformat_minor": 5
}
